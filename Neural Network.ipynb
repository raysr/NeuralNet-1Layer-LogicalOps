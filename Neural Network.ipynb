{
 "cells": [
  {
   "cell_type": "markdown",
   "metadata": {},
   "source": [
    "# 2-Layers Neural Network"
   ]
  },
  {
   "cell_type": "code",
   "execution_count": 21,
   "metadata": {},
   "outputs": [],
   "source": [
    "import numpy as np"
   ]
  },
  {
   "cell_type": "markdown",
   "metadata": {},
   "source": [
    "## Forward propagation"
   ]
  },
  {
   "cell_type": "markdown",
   "metadata": {},
   "source": [
    "Initializing weights"
   ]
  },
  {
   "cell_type": "code",
   "execution_count": 22,
   "metadata": {},
   "outputs": [
    {
     "name": "stdout",
     "output_type": "stream",
     "text": [
      "w_layer1 :\n",
      "[[8.31422079e-04 5.12132419e-04 5.44667345e-06]\n",
      " [2.76542451e-05 2.60144883e-04 5.06863588e-04]\n",
      " [1.38822418e-04 4.19075813e-04 3.84249059e-04]\n",
      " [3.35553023e-04 8.15495600e-04 4.24873949e-04]]\n",
      "b_layer1 :\n",
      "[[0.]\n",
      " [0.]\n",
      " [0.]\n",
      " [0.]]\n"
     ]
    }
   ],
   "source": [
    "m=1000000 # Number of training examples\n",
    "w_layer1=np.random.rand(4,3)*0.001\n",
    "b_layer1=np.zeros((4,1))\n",
    "x_input=np.random.rand(3,m)*0.001\n",
    "y_output=np.random.rand(1,m)\n",
    "alpha=0.001 # Learning rate\n",
    "print(\"w_layer1 :\\n\"+str(w_layer1))\n",
    "print(\"b_layer1 :\\n\"+str(b_layer1))"
   ]
  },
  {
   "cell_type": "code",
   "execution_count": 23,
   "metadata": {},
   "outputs": [],
   "source": [
    "w_output=np.random.rand(1,4)\n",
    "b_output=0"
   ]
  },
  {
   "cell_type": "code",
   "execution_count": 24,
   "metadata": {},
   "outputs": [
    {
     "name": "stdout",
     "output_type": "stream",
     "text": [
      "[[9.61111953e-07 4.27539681e-07 2.36095350e-07 ... 3.37131451e-07\n",
      "  4.55387954e-07 6.91725375e-07]\n",
      " [5.74750641e-07 5.01481437e-07 4.26564886e-07 ... 1.17263960e-07\n",
      "  3.37307343e-07 3.36963425e-07]\n",
      " [6.84721427e-07 4.53005115e-07 3.86924595e-07 ... 1.37321259e-07\n",
      "  3.88440789e-07 4.23991048e-07]\n",
      " [1.14889266e-06 6.14223784e-07 5.27927007e-07 ... 2.26690178e-07\n",
      "  6.38852640e-07 7.33622537e-07]]\n"
     ]
    }
   ],
   "source": [
    "z_layer1=np.add(np.dot(w_layer1,x_input),b_layer1)\n",
    "print(z_layer1)"
   ]
  },
  {
   "cell_type": "code",
   "execution_count": 25,
   "metadata": {},
   "outputs": [
    {
     "name": "stdout",
     "output_type": "stream",
     "text": [
      "[[9.61111953e-07 4.27539681e-07 2.36095350e-07 ... 3.37131451e-07\n",
      "  4.55387954e-07 6.91725375e-07]\n",
      " [5.74750641e-07 5.01481437e-07 4.26564886e-07 ... 1.17263960e-07\n",
      "  3.37307343e-07 3.36963425e-07]\n",
      " [6.84721427e-07 4.53005115e-07 3.86924595e-07 ... 1.37321259e-07\n",
      "  3.88440789e-07 4.23991048e-07]\n",
      " [1.14889266e-06 6.14223784e-07 5.27927007e-07 ... 2.26690178e-07\n",
      "  6.38852640e-07 7.33622537e-07]]\n"
     ]
    }
   ],
   "source": [
    "a_layer1=np.maximum(0,z_layer1)\n",
    "print(a_layer1)"
   ]
  },
  {
   "cell_type": "code",
   "execution_count": 26,
   "metadata": {},
   "outputs": [],
   "source": [
    "z_output=np.add(np.dot(w_output,a_layer1),b_output)"
   ]
  },
  {
   "cell_type": "code",
   "execution_count": 27,
   "metadata": {},
   "outputs": [
    {
     "name": "stdout",
     "output_type": "stream",
     "text": [
      "Final prediction : \n",
      "[[2.07566585e-06 1.27467001e-06 9.94136000e-07 ... 5.22095950e-07\n",
      "  1.11711597e-06 1.34724267e-06]]\n"
     ]
    }
   ],
   "source": [
    "a_output=np.maximum(0,z_output)\n",
    "print(\"Final prediction : \\n\"+str(z_output))"
   ]
  },
  {
   "cell_type": "markdown",
   "metadata": {},
   "source": [
    "## Backpropagation"
   ]
  },
  {
   "cell_type": "code",
   "execution_count": 28,
   "metadata": {},
   "outputs": [],
   "source": [
    "dz_output=np.subtract(a_output,y_output)\n",
    "dw_output=np.dot(a_layer1,dz_output.T)/m\n",
    "db_output=np.sum(dz_output,axis=1,keepdims=True)/m"
   ]
  },
  {
   "cell_type": "code",
   "execution_count": 29,
   "metadata": {},
   "outputs": [],
   "source": [
    "def reluDerivative(x):\n",
    "    x[x<0] = 0\n",
    "    x[x>=0] = 1\n",
    "    return x\n",
    "dz_layer1=np.dot(w_output.T,dz_output)*reluDerivative(z_layer1)\n",
    "dw_layer1=np.dot(x_input,dz_layer1.T)/m\n",
    "db_output=np.sum(dz_layer1,axis=1,keepdims=True)/m"
   ]
  },
  {
   "cell_type": "markdown",
   "metadata": {},
   "source": [
    "### Updating all the weights"
   ]
  },
  {
   "cell_type": "code",
   "execution_count": 35,
   "metadata": {},
   "outputs": [
    {
     "ename": "ValueError",
     "evalue": "operands could not be broadcast together with shapes (4,3) (3,4) ",
     "output_type": "error",
     "traceback": [
      "\u001b[0;31m---------------------------------------------------------------------------\u001b[0m",
      "\u001b[0;31mValueError\u001b[0m                                Traceback (most recent call last)",
      "\u001b[0;32m<ipython-input-35-6a4540d646ce>\u001b[0m in \u001b[0;36m<module>\u001b[0;34m\u001b[0m\n\u001b[1;32m      4\u001b[0m \u001b[0;34m\u001b[0m\u001b[0m\n\u001b[1;32m      5\u001b[0m \u001b[0mz_layer1\u001b[0m\u001b[0;34m=\u001b[0m\u001b[0mnp\u001b[0m\u001b[0;34m.\u001b[0m\u001b[0msubtract\u001b[0m\u001b[0;34m(\u001b[0m\u001b[0mz_layer1\u001b[0m\u001b[0;34m,\u001b[0m\u001b[0malpha\u001b[0m\u001b[0;34m*\u001b[0m\u001b[0mdz_layer1\u001b[0m\u001b[0;34m)\u001b[0m\u001b[0;34m\u001b[0m\u001b[0m\n\u001b[0;32m----> 6\u001b[0;31m \u001b[0mw_layer1\u001b[0m\u001b[0;34m=\u001b[0m\u001b[0mnp\u001b[0m\u001b[0;34m.\u001b[0m\u001b[0msubtract\u001b[0m\u001b[0;34m(\u001b[0m\u001b[0mw_layer1\u001b[0m\u001b[0;34m,\u001b[0m\u001b[0malpha\u001b[0m\u001b[0;34m*\u001b[0m\u001b[0mdw_layer1\u001b[0m\u001b[0;34m)\u001b[0m\u001b[0;34m\u001b[0m\u001b[0m\n\u001b[0m\u001b[1;32m      7\u001b[0m \u001b[0mb_layer1\u001b[0m\u001b[0;34m=\u001b[0m\u001b[0mnp\u001b[0m\u001b[0;34m.\u001b[0m\u001b[0msubtract\u001b[0m\u001b[0;34m(\u001b[0m\u001b[0mb_layer1\u001b[0m\u001b[0;34m,\u001b[0m\u001b[0malpha\u001b[0m\u001b[0;34m*\u001b[0m\u001b[0mdb_layer1\u001b[0m\u001b[0;34m)\u001b[0m\u001b[0;34m\u001b[0m\u001b[0m\n",
      "\u001b[0;31mValueError\u001b[0m: operands could not be broadcast together with shapes (4,3) (3,4) "
     ]
    }
   ],
   "source": [
    "z_output=np.subtract(z_output,alpha*dz_output)\n",
    "w_output=np.subtract(w_output,alpha*dw_output)\n",
    "b_output=np.subtract(b_output,alpha*db_output)\n",
    "\n",
    "z_layer1=np.subtract(z_layer1,alpha*dz_layer1)\n",
    "w_layer1=np.subtract(w_layer1,alpha*dw_layer1)\n",
    "b_layer1=np.subtract(b_layer1,alpha*db_layer1)"
   ]
  },
  {
   "cell_type": "code",
   "execution_count": null,
   "metadata": {},
   "outputs": [],
   "source": []
  }
 ],
 "metadata": {
  "kernelspec": {
   "display_name": "Python 3",
   "language": "python",
   "name": "python3"
  },
  "language_info": {
   "codemirror_mode": {
    "name": "ipython",
    "version": 3
   },
   "file_extension": ".py",
   "mimetype": "text/x-python",
   "name": "python",
   "nbconvert_exporter": "python",
   "pygments_lexer": "ipython3",
   "version": "3.6.5"
  }
 },
 "nbformat": 4,
 "nbformat_minor": 2
}
