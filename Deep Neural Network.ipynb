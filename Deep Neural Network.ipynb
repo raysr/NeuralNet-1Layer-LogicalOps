{
 "cells": [
  {
   "cell_type": "markdown",
   "metadata": {},
   "source": [
    "# Deep-4 Neural Network"
   ]
  },
  {
   "cell_type": "code",
   "execution_count": 186,
   "metadata": {},
   "outputs": [],
   "source": [
    "import numpy as np"
   ]
  },
  {
   "cell_type": "markdown",
   "metadata": {},
   "source": [
    "# Initialize weights"
   ]
  },
  {
   "cell_type": "code",
   "execution_count": 187,
   "metadata": {},
   "outputs": [],
   "source": [
    "m=10000\n",
    "alpha=0.001\n",
    "X=np.random.rand(m,3)\n",
    "Y=np.random.rand(1,m)\n",
    "w_layer1=np.random.rand(5,3)*0.001\n",
    "b_layer1=np.zeros((5,1))\n",
    "w_layer2=np.random.rand(5,5)*0.001\n",
    "b_layer2=np.zeros((5,1))\n",
    "w_layer3=np.random.rand(3,5)*0.001\n",
    "b_layer3=np.zeros((3,1))\n",
    "w_output=np.random.rand(1,3)*0.001\n",
    "b_output=0"
   ]
  },
  {
   "cell_type": "markdown",
   "metadata": {},
   "source": [
    "# Preparing derivative of reLu"
   ]
  },
  {
   "cell_type": "code",
   "execution_count": 188,
   "metadata": {},
   "outputs": [],
   "source": [
    "def reluDerivative(x):\n",
    "    x[x<0] = 0\n",
    "    x[x>=0] = 1\n",
    "    return x"
   ]
  },
  {
   "cell_type": "markdown",
   "metadata": {},
   "source": [
    "# Forward Propagation"
   ]
  },
  {
   "cell_type": "code",
   "execution_count": 189,
   "metadata": {},
   "outputs": [],
   "source": [
    "z_layer1=np.dot(w_layer1,X.T)+b_layer1\n",
    "a_layer1=np.maximum(0,z_layer1)"
   ]
  },
  {
   "cell_type": "code",
   "execution_count": 190,
   "metadata": {},
   "outputs": [],
   "source": [
    "z_layer2=np.dot(w_layer2,a_layer1)+b_layer2\n",
    "a_layer2=np.maximum(0,z_layer2)"
   ]
  },
  {
   "cell_type": "code",
   "execution_count": 191,
   "metadata": {},
   "outputs": [],
   "source": [
    "z_layer3=np.dot(w_layer3,a_layer2)+b_layer3\n",
    "a_layer3=np.maximum(0,z_layer3)"
   ]
  },
  {
   "cell_type": "code",
   "execution_count": 192,
   "metadata": {},
   "outputs": [
    {
     "name": "stdout",
     "output_type": "stream",
     "text": [
      "Number of predictions : (1, 10000)\n",
      "[[8.61978724e-12 6.98533057e-12 7.50300050e-12 ... 3.07770991e-12\n",
      "  2.03867939e-12 8.25040595e-12]]\n"
     ]
    }
   ],
   "source": [
    "z_output=np.dot(w_output,a_layer3)+b_output\n",
    "a_output=np.maximum(0,z_output)\n",
    "print(\"Number of predictions : \"+str(a_output.shape))\n",
    "print(a_output)"
   ]
  },
  {
   "cell_type": "markdown",
   "metadata": {},
   "source": [
    "# Backpropagation"
   ]
  },
  {
   "cell_type": "code",
   "execution_count": 193,
   "metadata": {},
   "outputs": [],
   "source": [
    "dz_output=np.subtract(a_output,Y)\n",
    "dw_output=np.dot(dz_output,a_layer3.T)/m\n",
    "db_output=np.sum(dz_output,axis=1,keepdims=True)/m"
   ]
  },
  {
   "cell_type": "code",
   "execution_count": 195,
   "metadata": {},
   "outputs": [
    {
     "name": "stdout",
     "output_type": "stream",
     "text": [
      "(3, 10000)\n"
     ]
    }
   ],
   "source": [
    "dz_layer3=np.dot(w_output.T,dz_output)*reluDerivative(z_layer3)\n",
    "dw_layer3=np.dot(dz_layer3,a_layer2.T)/m\n",
    "db_layer3=np.sum(dz_layer3,axis=1,keepdims=True)/m\n",
    "print(z_layer3.shape)"
   ]
  },
  {
   "cell_type": "code",
   "execution_count": 196,
   "metadata": {},
   "outputs": [],
   "source": [
    "dz_layer2=np.dot(w_layer3.T,dz_layer3)*reluDerivative(z_layer2)\n",
    "dw_layer2=np.dot(dz_layer2,a_layer1.T)/m\n",
    "db_layer2=np.sum(dz_layer2,axis=1,keepdims=True)/m"
   ]
  },
  {
   "cell_type": "code",
   "execution_count": 199,
   "metadata": {},
   "outputs": [],
   "source": [
    "dz_layer1=np.dot(w_layer2.T,dz_layer2)*reluDerivative(z_layer1)\n",
    "dw_layer1=np.dot(dz_layer1,X)/m\n",
    "db_layer1=np.sum(dz_layer2,axis=1,keepdims=True)/m"
   ]
  },
  {
   "cell_type": "markdown",
   "metadata": {},
   "source": [
    "### Updating all the weights"
   ]
  },
  {
   "cell_type": "code",
   "execution_count": 200,
   "metadata": {},
   "outputs": [],
   "source": [
    "z_output=np.subtract(z_output,alpha*dz_output)\n",
    "w_output=np.subtract(w_output,alpha*dw_output)\n",
    "b_output=np.subtract(b_output,alpha*db_output)\n",
    "\n",
    "z_layer3=np.subtract(z_layer3,alpha*dz_layer3)\n",
    "w_layer3=np.subtract(w_layer3,alpha*dw_layer3)\n",
    "b_layer3=np.subtract(b_layer3,alpha*db_layer3)\n",
    "\n",
    "z_layer2=np.subtract(z_layer2,alpha*dz_layer2)\n",
    "w_layer2=np.subtract(w_layer2,alpha*dw_layer2)\n",
    "b_layer2=np.subtract(b_layer2,alpha*db_layer2)\n",
    "\n",
    "z_layer1=np.subtract(z_layer1,alpha*dz_layer1)\n",
    "w_layer1=np.subtract(w_layer1,alpha*dw_layer1)\n",
    "b_layer1=np.subtract(b_layer1,alpha*db_layer1)"
   ]
  }
 ],
 "metadata": {
  "kernelspec": {
   "display_name": "Python 3",
   "language": "python",
   "name": "python3"
  },
  "language_info": {
   "codemirror_mode": {
    "name": "ipython",
    "version": 3
   },
   "file_extension": ".py",
   "mimetype": "text/x-python",
   "name": "python",
   "nbconvert_exporter": "python",
   "pygments_lexer": "ipython3",
   "version": "3.6.5"
  }
 },
 "nbformat": 4,
 "nbformat_minor": 2
}
